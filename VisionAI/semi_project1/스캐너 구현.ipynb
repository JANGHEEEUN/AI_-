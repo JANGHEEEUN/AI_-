{
 "cells": [
  {
   "cell_type": "code",
   "execution_count": null,
   "metadata": {},
   "outputs": [
    {
     "name": "stdout",
     "output_type": "stream",
     "text": [
      "[[[101  55]]\n",
      "\n",
      " [[ 23 706]]\n",
      "\n",
      " [[568 695]]\n",
      "\n",
      " [[497 103]]]\n"
     ]
    }
   ],
   "source": [
    "import numpy as np\n",
    "import cv2\n",
    "import matplotlib.pyplot as plt\n",
    "\n",
    "img = cv2.imread('img/paper.jpg')\n",
    "rows, cols = img.shape[:2]\n",
    "\n",
    "#gray scale\n",
    "imgray = cv2.cvtColor(img, cv2.COLOR_BGR2GRAY)\n",
    "\n",
    "#가우시안블러로 노이즈 제거\n",
    "# (5,5): 블러 시킬 커널의 크기\n",
    "# 0: 자동으로 표준편차 값을 선택해줌\n",
    "dst = cv2.GaussianBlur(imgray, (5,5),0)\n",
    "\n",
    "#케니 엣지로 경계 검출\n",
    "#100, 200 = threshold1, threshold2 : 스레시홀딩에 사용할 최소, 최댓값\n",
    "edges = cv2.Canny(dst, 100, 200)\n",
    "\n",
    "#경계 검출한 이미지 'edges'에서 컨투어 찾기\n",
    "_, contours,_ = cv2.findContours(edges, cv2.RETR_EXTERNAL, cv2.CHAIN_APPROX_NONE)\n",
    "# print(len(contours))\n",
    "contour = contours[0] #print했을 때 contour가 1개이므로 0번째를 contour로 설정\n",
    "# mnt = cv2.moments(contour) #moment는 24개의 값을 가짐 - 공간, 중심, 평준화된 중심 모멘트\n",
    "# print(mnt)\n",
    "#drawcontour하면 이미지에서 테두리에 초록색 선 확인 가능\n",
    "#3은 선 두께\n",
    "draw_img = img.copy()\n",
    "cv2.drawContours(draw_img, contour, -1, (0,255,0), 3)\n",
    "\n",
    "#컨투어를 apporxPolyDP() 함수로 단순화 한 뒤 꼭지점 4개 구하기\n",
    "#종이 안에 글자가 많더라도 approxPolyDP()를 사용하면 글자를 컨투어로 인식하지 않고 \n",
    "#꼭지점을 줄여 테두리만 컨투어로 인식\n",
    "epsilon = 0.01 * cv2.arcLength(contour, True)\n",
    "approx = cv2.approxPolyDP(contour, epsilon, True)\n",
    "app_img = img.copy()\n",
    "cv2.drawContours(app_img, [approx], -1, (0,0,255), 3)\n",
    "print(approx)\n",
    "\n",
    "#approx 값을 4x2 배열로 reshape\n",
    "approx = approx.reshape(4,2)\n",
    "\n",
    "#img에 꼭지점을 원으로 찍어준 것 - 상하좌우 찾아주기 위해\n",
    "cir_img = img.copy()\n",
    "cv2.circle(cir_img,tuple(approx[0]),10, (255,0,0), -1) #Left_Top\n",
    "cv2.circle(cir_img,tuple(approx[1]),10, (0,255,0), -1) #Left_Low\n",
    "cv2.circle(cir_img,tuple(approx[2]),10, (0,0,255), -1) #Right_Low\n",
    "cv2.circle(cir_img,tuple(approx[3]),10, (0,255,255), -1) #Right_Top\n",
    "\n",
    "lt = approx[0]\n",
    "ll = approx[1]\n",
    "rl = approx[2]\n",
    "rt = approx[3]\n",
    "\n",
    "pts1 = np.float32([lt,rt,ll,rl])\n",
    "pts2 = np.float32([[0,0], [cols,0], [0, rows], [cols,rows]])\n",
    "\n",
    "#원근 변환 행렬 계산\n",
    "mtrx = cv2.getPerspectiveTransform(pts1, pts2)\n",
    "\n",
    "#원근 변환 적용\n",
    "dst_img = img.copy()\n",
    "dst = cv2.warpPerspective(dst_img, mtrx, (cols,rows))\n",
    "\n",
    "cv2.imshow('dst_IMG', dst)\n",
    "cv2.waitKey()\n",
    "cv2.destroyAllWindows()\n",
    "\n",
    "#스캔 이미지처럼 만들어주기\n",
    "scan_img = cv2.cvtColor(dst, cv2.COLOR_BGR2GRAY)\n",
    "scan_img = cv2.adaptiveThreshold(scan_img, 255, cv2.ADAPTIVE_THRESH_MEAN_C, cv2.THRESH_BINARY, 21,10)\n",
    "\n",
    "cv2.imshow('SCAN_IMG', scan_img)\n",
    "cv2.waitKey()\n",
    "cv2.destroyAllWindows()"
   ]
  },
  {
   "cell_type": "code",
   "execution_count": null,
   "metadata": {},
   "outputs": [],
   "source": []
  },
  {
   "cell_type": "code",
   "execution_count": null,
   "metadata": {},
   "outputs": [],
   "source": []
  },
  {
   "cell_type": "code",
   "execution_count": null,
   "metadata": {},
   "outputs": [],
   "source": []
  }
 ],
 "metadata": {
  "kernelspec": {
   "display_name": "Python 3",
   "language": "python",
   "name": "python3"
  },
  "language_info": {
   "codemirror_mode": {
    "name": "ipython",
    "version": 3
   },
   "file_extension": ".py",
   "mimetype": "text/x-python",
   "name": "python",
   "nbconvert_exporter": "python",
   "pygments_lexer": "ipython3",
   "version": "3.7.3"
  }
 },
 "nbformat": 4,
 "nbformat_minor": 2
}
