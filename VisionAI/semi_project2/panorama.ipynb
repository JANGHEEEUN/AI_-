{
 "cells": [
  {
   "cell_type": "markdown",
   "metadata": {},
   "source": [
    "## img 2장으로 파노라마 연출하기"
   ]
  },
  {
   "cell_type": "code",
   "execution_count": null,
   "metadata": {},
   "outputs": [
    {
     "name": "stdout",
     "output_type": "stream",
     "text": [
      "matches:295/500\n"
     ]
    }
   ],
   "source": [
    "import cv2, numpy as np\n",
    "import matplotlib.pyplot as plt\n",
    "\n",
    "#파노라마로 만들 이미지 불러오기\n",
    "img1 = cv2.imread('img/restaurant1.jpg')\n",
    "img2 = cv2.imread('img/restaurant2.jpg')\n",
    "\n",
    "# 두 사진의 높이와 너비\n",
    "h1, w1 = img1.shape[:2]\n",
    "h2, w2 = img2.shape[:2]\n",
    "\n",
    "#그레이 스케일링\n",
    "gray1 = cv2.cvtColor(img1, cv2.COLOR_BGR2GRAY)\n",
    "gray2 = cv2.cvtColor(img2, cv2.COLOR_BGR2GRAY)\n",
    "\n",
    "#ORB 검출기 생성\n",
    "descriptor = cv2.ORB_create()\n",
    "(kp1, desc1) = descriptor.detectAndCompute(gray1, None)\n",
    "(kp2, desc2) = descriptor.detectAndCompute(gray2, None)\n",
    "\n",
    "# print(len(kp1))\n",
    "# print(len(kp2))\n",
    "# print(desc1.shape)\n",
    "# print(desc2.shape)\n",
    "\n",
    "#BRF 매칭기 생성\n",
    "matcher = cv2.BFMatcher(cv2.NORM_HAMMING2)\n",
    "\n",
    "#매칭\n",
    "matches = matcher.knnMatch(desc1, desc2, 2)\n",
    "\n",
    "#이웃 거리의 95%로 좋은 매칭점 추출\n",
    "ratio = 0.95\n",
    "good_matches = [first for first,second in matches if first.distance<second.distance*ratio]\n",
    "print('matches:%d/%d' %(len(good_matches), len(matches)))\n",
    "\n",
    "#img1과 img2를 나란히 두고 매칭점 그려서 출력\n",
    "res = cv2.drawMatches(img1, kp1, img2, kp2, good_matches, None, flags=cv2.DRAW_MATCHES_FLAGS_NOT_DRAW_SINGLE_POINTS)\n",
    "cv2.imshow('BFMatcher + SIFT', res)\n",
    "cv2.waitKey()\n",
    "cv2.destroyAllWindows()\n",
    "\n",
    "#좋은 매칭점으로 원본과 대상 영상의 좌표 구하기\n",
    "src_pts = np.float32([ kp1[m.queryIdx].pt for m in good_matches ])\n",
    "dst_pts = np.float32([ kp2[m.trainIdx].pt for m in good_matches ])\n",
    "#원근 변환 행렬 구하기\n",
    "mtrx, mask = cv2.findHomography( dst_pts,src_pts, cv2.RANSAC, 4.0)\n",
    "# print(len(mtrx))\n",
    "# print(len(mask))\n",
    "\n",
    "#img2에 mtrx를 적용한 뒤 panorama에 담기\n",
    "panorama = cv2.warpPerspective(img2, mtrx, (w2+w2, h2))\n",
    "\n",
    "#왼쪽 절반에 img1 담기\n",
    "panorama[0:h1, 0:w1] = img1\n",
    "\n",
    "cv2.imshow('BFMatcher + SIFT', panorama)\n",
    "cv2.waitKey()\n",
    "cv2.destroyAllWindows()"
   ]
  }
 ],
 "metadata": {
  "kernelspec": {
   "display_name": "Python 3",
   "language": "python",
   "name": "python3"
  },
  "language_info": {
   "codemirror_mode": {
    "name": "ipython",
    "version": 3
   },
   "file_extension": ".py",
   "mimetype": "text/x-python",
   "name": "python",
   "nbconvert_exporter": "python",
   "pygments_lexer": "ipython3",
   "version": "3.7.3"
  }
 },
 "nbformat": 4,
 "nbformat_minor": 2
}
